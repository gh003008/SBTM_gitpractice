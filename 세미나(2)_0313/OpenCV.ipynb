{
 "cells": [
  {
   "cell_type": "code",
   "execution_count": null,
   "metadata": {},
   "outputs": [],
   "source": [
    "import sys\n",
    "import cv2"
   ]
  },
  {
   "cell_type": "code",
   "execution_count": null,
   "metadata": {},
   "outputs": [],
   "source": [
    "print('Hello, OpenCV', cv2.__version__)"
   ]
  },
  {
   "cell_type": "code",
   "execution_count": null,
   "metadata": {},
   "outputs": [],
   "source": [
    "img = cv2.imread('joyuri.jpg')\n",
    "\n",
    "# 예외처리는 꼭 해주는게 좋다\n",
    "if img is None:\n",
    "    print('Image Load Failed')\n",
    "    sys.exit()\n",
    "    \n",
    "print(type(img))\n",
    "print(img.shape)\n",
    "\n",
    "cv2.imshow('image', img)\n",
    "cv2.waitKey()\n",
    "cv2.destroyAllWindows()"
   ]
  },
  {
   "cell_type": "code",
   "execution_count": null,
   "metadata": {},
   "outputs": [],
   "source": [
    "img = cv2.imread('joyuri.jpg', flags=cv2.IMREAD_GRAYSCALE)\n",
    "# shape = (rows, cols)\n",
    "\n",
    "if img is None:\n",
    "    print('Image Load Failed')\n",
    "    sys.exit()\n",
    "    \n",
    "print(img.shape)\n",
    "    \n",
    "cv2.imshow('image', img)\n",
    "cv2.waitKey()\n",
    "cv2.destroyAllWindows()"
   ]
  },
  {
   "cell_type": "code",
   "execution_count": null,
   "metadata": {},
   "outputs": [],
   "source": [
    "img = cv2.imread('joyuri.jpg', flags=cv2.IMREAD_COLOR)\n",
    "# shape = (rows, cols, 3)\n",
    "\n",
    "if img is None:\n",
    "    print('Image Load Failed')\n",
    "    sys.exit()\n",
    "    \n",
    "print(img.shape)\n",
    "    \n",
    "cv2.imshow('aaa', img)\n",
    "cv2.waitKey()\n",
    "cv2.destroyAllWindows()"
   ]
  },
  {
   "cell_type": "code",
   "execution_count": null,
   "metadata": {},
   "outputs": [],
   "source": [
    "img = cv2.imread('joyuri.jpg')\n",
    "\n",
    "if img is None:\n",
    "    print('Image Load Failed')\n",
    "    sys.exit()\n",
    "    \n",
    "cv2.imshow('image', img)\n",
    "cv2.waitKey(1000)\n",
    "cv2.destroyAllWindows()"
   ]
  },
  {
   "cell_type": "code",
   "execution_count": null,
   "metadata": {},
   "outputs": [],
   "source": [
    "img = cv2.imread('joyuri.jpg')\n",
    "\n",
    "if img is None:\n",
    "    print('Image Load Failed')\n",
    "    sys.exit()\n",
    "    \n",
    "cv2.imshow('image', img)\n",
    "\n",
    "'''\n",
    "    esc: 27\n",
    "    enter: 13\n",
    "'''\n",
    "\n",
    "if cv2.waitKey() == 27:\n",
    "    print('q')\n",
    "cv2.destroyAllWindows()"
   ]
  },
  {
   "cell_type": "code",
   "execution_count": null,
   "metadata": {},
   "outputs": [],
   "source": [
    "img = cv2.imread('joyuri.jpg', cv2.IMREAD_GRAYSCALE)\n",
    "\n",
    "if img is None:\n",
    "    print('Image load failed!')\n",
    "    sys.exit()\n",
    "\n",
    "cv2.imwrite('yuri.jpg', img)\n",
    "\n",
    "cv2.namedWindow('image', cv2.WINDOW_NORMAL)\n",
    "# cv2.WINDOW_NORMAL: 영상 크기를 창 크기에 맞게 지정\n",
    "# cv2.WINDOW_AUTOSIZE(기본값): 창 크기를 영상 크기에 맞게 변경\n",
    "cv2.imshow('image', img)\n",
    "while True:\n",
    "    if cv2.waitKey() == ord('q'):\n",
    "        break\n",
    "\n",
    "cv2.destroyWindow('image')"
   ]
  }
 ],
 "metadata": {
  "kernelspec": {
   "display_name": "SBTM",
   "language": "python",
   "name": "sbtm"
  },
  "language_info": {
   "codemirror_mode": {
    "name": "ipython",
    "version": 3
   },
   "file_extension": ".py",
   "mimetype": "text/x-python",
   "name": "python",
   "nbconvert_exporter": "python",
   "pygments_lexer": "ipython3",
   "version": "3.8.5"
  }
 },
 "nbformat": 4,
 "nbformat_minor": 4
}
