{
 "cells": [
  {
   "cell_type": "markdown",
   "metadata": {},
   "source": [
    "# Tensor\n",
    "- 우리는 numpy라는 라이브러리를 사용해 array(모든 차원)라는 형태로 다룬다"
   ]
  },
  {
   "cell_type": "code",
   "execution_count": 3,
   "metadata": {},
   "outputs": [],
   "source": [
    "import numpy as np"
   ]
  },
  {
   "cell_type": "markdown",
   "metadata": {},
   "source": [
    "## 0차원\n",
    "- scalar"
   ]
  },
  {
   "cell_type": "code",
   "execution_count": 4,
   "metadata": {
    "scrolled": true
   },
   "outputs": [
    {
     "data": {
      "text/plain": [
       "array(17)"
      ]
     },
     "execution_count": 4,
     "metadata": {},
     "output_type": "execute_result"
    }
   ],
   "source": [
    "# 숫자 데이터를 array화\n",
    "arr = np.array(17)\n",
    "arr"
   ]
  },
  {
   "cell_type": "code",
   "execution_count": 5,
   "metadata": {},
   "outputs": [
    {
     "data": {
      "text/plain": [
       "(int, numpy.ndarray)"
      ]
     },
     "execution_count": 5,
     "metadata": {},
     "output_type": "execute_result"
    }
   ],
   "source": [
    "type(17), type(arr)"
   ]
  },
  {
   "cell_type": "code",
   "execution_count": 6,
   "metadata": {},
   "outputs": [
    {
     "data": {
      "text/plain": [
       "()"
      ]
     },
     "execution_count": 6,
     "metadata": {},
     "output_type": "execute_result"
    }
   ],
   "source": [
    "# 차원이 없다\n",
    "arr.shape"
   ]
  },
  {
   "cell_type": "code",
   "execution_count": 7,
   "metadata": {},
   "outputs": [
    {
     "data": {
      "text/plain": [
       "0"
      ]
     },
     "execution_count": 7,
     "metadata": {},
     "output_type": "execute_result"
    }
   ],
   "source": [
    "arr.ndim"
   ]
  },
  {
   "cell_type": "markdown",
   "metadata": {},
   "source": [
    "## 1차원\n",
    "- 대괄호로 차원을 추가할 수 있다"
   ]
  },
  {
   "cell_type": "code",
   "execution_count": 8,
   "metadata": {},
   "outputs": [
    {
     "data": {
      "text/plain": [
       "array([17,  6])"
      ]
     },
     "execution_count": 8,
     "metadata": {},
     "output_type": "execute_result"
    }
   ],
   "source": [
    "arr = np.array([17,6])\n",
    "arr"
   ]
  },
  {
   "cell_type": "code",
   "execution_count": 9,
   "metadata": {},
   "outputs": [
    {
     "data": {
      "text/plain": [
       "(2,)"
      ]
     },
     "execution_count": 9,
     "metadata": {},
     "output_type": "execute_result"
    }
   ],
   "source": [
    "arr.shape"
   ]
  },
  {
   "cell_type": "code",
   "execution_count": 10,
   "metadata": {},
   "outputs": [
    {
     "data": {
      "text/plain": [
       "1"
      ]
     },
     "execution_count": 10,
     "metadata": {},
     "output_type": "execute_result"
    }
   ],
   "source": [
    "arr.ndim"
   ]
  },
  {
   "cell_type": "code",
   "execution_count": 11,
   "metadata": {},
   "outputs": [
    {
     "name": "stdout",
     "output_type": "stream",
     "text": [
      "[1 2 3]\n",
      "(3,)\n",
      "1\n"
     ]
    }
   ],
   "source": [
    "# shape에 있는 숫자 자체가 차원이 아니라 숫자의 개수가 차원!\n",
    "# 즉 1차원에 3개의 값이 들어갔다는 의미\n",
    "_arr = np.array([1, 2, 3])\n",
    "print(_arr)\n",
    "print(_arr.shape)\n",
    "print(_arr.ndim)"
   ]
  },
  {
   "cell_type": "markdown",
   "metadata": {},
   "source": [
    "## 2차원\n",
    "- 1차원처럼 같은 방법으로 차원 추가"
   ]
  },
  {
   "cell_type": "code",
   "execution_count": 12,
   "metadata": {},
   "outputs": [
    {
     "data": {
      "text/plain": [
       "(array([[1, 2, 3]]), (1, 3), 2)"
      ]
     },
     "execution_count": 12,
     "metadata": {},
     "output_type": "execute_result"
    }
   ],
   "source": [
    "arr = np.array([[1, 2, 3]])\n",
    "arr, arr.shape, arr.ndim"
   ]
  },
  {
   "cell_type": "code",
   "execution_count": 13,
   "metadata": {},
   "outputs": [
    {
     "data": {
      "text/plain": [
       "(array([[1, 2, 3],\n",
       "        [1, 2, 3]]),\n",
       " (2, 3),\n",
       " 2)"
      ]
     },
     "execution_count": 13,
     "metadata": {},
     "output_type": "execute_result"
    }
   ],
   "source": [
    "arr = np.array([[1, 2, 3], [1, 2, 3]])\n",
    "arr, arr.shape, arr.ndim"
   ]
  },
  {
   "cell_type": "code",
   "execution_count": null,
   "metadata": {},
   "outputs": [],
   "source": [
    "# 대괄호의 개수로 차원이 정해짐\n",
    "arr = np.array([[17]])\n",
    "print(arr.shape)\n",
    "print(arr.ndim)"
   ]
  },
  {
   "cell_type": "markdown",
   "metadata": {},
   "source": [
    "## 다차원\n",
    "- Enter로 보기 편하게 쓸 수 있다"
   ]
  },
  {
   "cell_type": "code",
   "execution_count": null,
   "metadata": {},
   "outputs": [],
   "source": [
    "arr=np.array([[[[1,2,3],[1,2,3],[1,2,3]],\n",
    "               [[1,2,3],[1,2,3],[1,2,3]]],\n",
    "              [[[1,2,3],[1,2,3],[1,2,3]],\n",
    "               [[1,2,3],[1,2,3],[1,2,3]]]])\n",
    "\n",
    "print(arr)\n",
    "print(arr.shape) \n",
    "print(arr.ndim)"
   ]
  },
  {
   "cell_type": "code",
   "execution_count": null,
   "metadata": {},
   "outputs": [],
   "source": [
    "arr=np.array([[[1],[2],[3]],[[1],[2],[3]],[[1],[2],[3]]])\n",
    "print(arr)\n",
    "print(arr.shape) \n",
    "print(arr.ndim)"
   ]
  },
  {
   "cell_type": "code",
   "execution_count": 15,
   "metadata": {},
   "outputs": [
    {
     "data": {
      "text/plain": [
       "(2, 2)"
      ]
     },
     "execution_count": 15,
     "metadata": {},
     "output_type": "execute_result"
    }
   ],
   "source": [
    "# 차원을 확인하는 다른 방법\n",
    "arr = np.array([[1, 2, 3], [1, 2, 3]])\n",
    "arr.ndim, len(arr.shape)"
   ]
  },
  {
   "cell_type": "markdown",
   "metadata": {},
   "source": [
    "cf) 대괄호 개수로 보면 편하긴 하지만 모든 값들이 담긴 수가 같아야 한다"
   ]
  },
  {
   "cell_type": "code",
   "execution_count": 14,
   "metadata": {},
   "outputs": [
    {
     "name": "stdout",
     "output_type": "stream",
     "text": [
      "[[list([1]) list([2, 3]) list([3, 4, 5])]\n",
      " [list([1]) list([2]) list([3])]]\n",
      "(2, 3)\n",
      "2\n"
     ]
    },
    {
     "name": "stderr",
     "output_type": "stream",
     "text": [
      "<ipython-input-14-dfbe42ff14b6>:1: VisibleDeprecationWarning: Creating an ndarray from ragged nested sequences (which is a list-or-tuple of lists-or-tuples-or ndarrays with different lengths or shapes) is deprecated. If you meant to do this, you must specify 'dtype=object' when creating the ndarray.\n",
      "  arr=np.array([[[1],[2,3],[3,4,5]],[[1],[2],[3]]])\n"
     ]
    }
   ],
   "source": [
    "arr=np.array([[[1],[2,3],[3,4,5]],[[1],[2],[3]]])\n",
    "print(arr)\n",
    "print(arr.shape) \n",
    "print(arr.ndim)"
   ]
  },
  {
   "cell_type": "markdown",
   "metadata": {},
   "source": [
    "## size"
   ]
  },
  {
   "cell_type": "code",
   "execution_count": null,
   "metadata": {},
   "outputs": [],
   "source": [
    "arr = np.array([[1, 2, 3], [1, 2, 3]])\n",
    "arr.size # 2 X 3 = 6\n",
    "# arr.shape"
   ]
  },
  {
   "cell_type": "markdown",
   "metadata": {},
   "source": [
    "# data type\n",
    "- 똑같이 생긴 array도 data type이 다르면 다른 array\n",
    "- Gray Scale의 Image인 경우 OpenCV에서 np.uint8"
   ]
  },
  {
   "cell_type": "code",
   "execution_count": 16,
   "metadata": {},
   "outputs": [
    {
     "data": {
      "text/plain": [
       "(dtype('int32'), dtype('float64'))"
      ]
     },
     "execution_count": 16,
     "metadata": {},
     "output_type": "execute_result"
    }
   ],
   "source": [
    "arr = np.array([[1, 2, 3], [1, 2, 3]]) \n",
    "arr1 = np.array([[1., 2, 3], [1, 2, 3]])\n",
    "arr.dtype, arr1.dtype"
   ]
  },
  {
   "cell_type": "markdown",
   "metadata": {},
   "source": [
    "- 형변환"
   ]
  },
  {
   "cell_type": "code",
   "execution_count": 17,
   "metadata": {},
   "outputs": [
    {
     "data": {
      "text/plain": [
       "array([[1., 2., 3.],\n",
       "       [1., 2., 3.]], dtype=float32)"
      ]
     },
     "execution_count": 17,
     "metadata": {},
     "output_type": "execute_result"
    }
   ],
   "source": [
    "arr1.astype('float32')"
   ]
  },
  {
   "cell_type": "code",
   "execution_count": 27,
   "metadata": {},
   "outputs": [
    {
     "data": {
      "text/plain": [
       "array([[1, 2, 3],\n",
       "       [1, 2, 3]], dtype=int8)"
      ]
     },
     "execution_count": 27,
     "metadata": {},
     "output_type": "execute_result"
    }
   ],
   "source": [
    "arr1.astype('int8')"
   ]
  },
  {
   "cell_type": "code",
   "execution_count": 29,
   "metadata": {},
   "outputs": [],
   "source": [
    "arr2 = arr1.astype(np.uint8)"
   ]
  },
  {
   "cell_type": "code",
   "execution_count": 30,
   "metadata": {},
   "outputs": [
    {
     "data": {
      "text/plain": [
       "array([[1, 2, 3],\n",
       "       [1, 2, 3]], dtype=uint8)"
      ]
     },
     "execution_count": 30,
     "metadata": {},
     "output_type": "execute_result"
    }
   ],
   "source": [
    "arr2"
   ]
  },
  {
   "cell_type": "markdown",
   "metadata": {},
   "source": [
    "- array 자체를 형변환 할때는 앞에 array이름을 다시 넣어줘야 한다"
   ]
  },
  {
   "cell_type": "code",
   "execution_count": 22,
   "metadata": {},
   "outputs": [
    {
     "data": {
      "text/plain": [
       "dtype('float64')"
      ]
     },
     "execution_count": 22,
     "metadata": {},
     "output_type": "execute_result"
    }
   ],
   "source": [
    "arr1.dtype"
   ]
  },
  {
   "cell_type": "code",
   "execution_count": 23,
   "metadata": {},
   "outputs": [
    {
     "data": {
      "text/plain": [
       "array([[1, 2, 3],\n",
       "       [1, 2, 3]], dtype=uint8)"
      ]
     },
     "execution_count": 23,
     "metadata": {},
     "output_type": "execute_result"
    }
   ],
   "source": [
    "arr1 = arr1.astype(np.uint8)\n",
    "arr1"
   ]
  },
  {
   "cell_type": "markdown",
   "metadata": {},
   "source": [
    "- 처음 array를 만들 때 dtype을 선언할 수 있다"
   ]
  },
  {
   "cell_type": "code",
   "execution_count": 24,
   "metadata": {},
   "outputs": [
    {
     "data": {
      "text/plain": [
       "dtype('uint8')"
      ]
     },
     "execution_count": 24,
     "metadata": {},
     "output_type": "execute_result"
    }
   ],
   "source": [
    "arr1 = np.array([[1, 2, 3], [1, 2, 3]], dtype=np.uint8)\n",
    "arr1.dtype"
   ]
  },
  {
   "cell_type": "markdown",
   "metadata": {},
   "source": [
    "# Reshape"
   ]
  },
  {
   "cell_type": "code",
   "execution_count": 31,
   "metadata": {},
   "outputs": [
    {
     "data": {
      "text/plain": [
       "(2, 3)"
      ]
     },
     "execution_count": 31,
     "metadata": {},
     "output_type": "execute_result"
    }
   ],
   "source": [
    "arr = np.array([[1, 2, 3], [1, 2, 3]])\n",
    "arr.shape"
   ]
  },
  {
   "cell_type": "code",
   "execution_count": 32,
   "metadata": {},
   "outputs": [
    {
     "data": {
      "text/plain": [
       "array([[1, 2, 3, 1, 2, 3]])"
      ]
     },
     "execution_count": 32,
     "metadata": {},
     "output_type": "execute_result"
    }
   ],
   "source": [
    "# size는 같아야 한다\n",
    "arr = arr.reshape([1, 6])\n",
    "arr"
   ]
  },
  {
   "cell_type": "code",
   "execution_count": 33,
   "metadata": {},
   "outputs": [
    {
     "data": {
      "text/plain": [
       "array([1, 2, 3, 1, 2, 3])"
      ]
     },
     "execution_count": 33,
     "metadata": {},
     "output_type": "execute_result"
    }
   ],
   "source": [
    "arr = np.array([[1, 2, 3], [1, 2, 3]])\n",
    "arr = arr.reshape([6])\n",
    "arr"
   ]
  },
  {
   "cell_type": "code",
   "execution_count": 34,
   "metadata": {},
   "outputs": [
    {
     "name": "stdout",
     "output_type": "stream",
     "text": [
      "[1 2 3 1 2 3]\n",
      "(6,)\n"
     ]
    }
   ],
   "source": [
    "# -1: 남는 숫자\n",
    "arr = np.array([[1, 2, 3], [1, 2, 3]])\n",
    "arr = arr.reshape(-1)\n",
    "print(arr)\n",
    "print(arr.shape)"
   ]
  },
  {
   "cell_type": "code",
   "execution_count": 35,
   "metadata": {},
   "outputs": [
    {
     "name": "stdout",
     "output_type": "stream",
     "text": [
      "[[1 2 3]\n",
      " [1 2 3]] (2, 3)\n",
      "[[1 2 3]\n",
      " [1 2 3]] (2, 3)\n"
     ]
    }
   ],
   "source": [
    "arr = np.array([[1, 2, 3], [1, 2, 3]])\n",
    "\n",
    "arr = arr.reshape(-1, 3)\n",
    "print(arr, arr.shape)\n",
    "\n",
    "arr = arr.reshape(2, -1)\n",
    "print(arr, arr.shape)"
   ]
  },
  {
   "cell_type": "code",
   "execution_count": 36,
   "metadata": {},
   "outputs": [
    {
     "data": {
      "text/plain": [
       "(8, 8)"
      ]
     },
     "execution_count": 36,
     "metadata": {},
     "output_type": "execute_result"
    }
   ],
   "source": [
    "arr = np.random.randn(8, 8) # 표준정규분포로부터 샘플링\n",
    "arr.shape"
   ]
  },
  {
   "cell_type": "code",
   "execution_count": 37,
   "metadata": {},
   "outputs": [
    {
     "name": "stdout",
     "output_type": "stream",
     "text": [
      "(32, 2)\n",
      "[[-1.31046958 -0.93253738]\n",
      " [-2.13819828  1.79162807]\n",
      " [-0.16228284 -1.70694717]\n",
      " [-0.23222206 -0.73382067]\n",
      " [-1.07183769 -0.83064369]\n",
      " [-0.7473042  -0.2965974 ]\n",
      " [ 0.65594838  0.17794284]\n",
      " [-0.1542058  -0.05729906]\n",
      " [-0.33206404 -1.02355202]\n",
      " [ 0.60192929  0.07359752]\n",
      " [-1.00384314  1.34217908]\n",
      " [ 0.69170877 -0.67502613]\n",
      " [-1.37150749 -0.02806462]\n",
      " [ 0.91914374 -1.71732504]\n",
      " [ 0.01925313 -0.95089916]\n",
      " [ 1.39302547 -1.06284878]\n",
      " [ 0.19263793  0.9511688 ]\n",
      " [-1.35258785  0.04488959]\n",
      " [ 0.47808845 -0.35219241]\n",
      " [ 0.65993249 -0.25650158]\n",
      " [-1.49616979 -0.88013121]\n",
      " [ 0.20966962 -0.47516489]\n",
      " [ 0.30906106  0.38845719]\n",
      " [-1.6757788   1.33412496]\n",
      " [-2.18297148  0.05834462]\n",
      " [ 0.76907619  1.91390185]\n",
      " [ 0.05506726  2.03486045]\n",
      " [-0.37140426  0.5972738 ]\n",
      " [-0.05129632 -0.81239152]\n",
      " [-1.04038791  1.54781763]\n",
      " [-1.55012918 -0.24270387]\n",
      " [ 0.45244546  0.51919239]]\n"
     ]
    }
   ],
   "source": [
    "arr = arr.reshape([32, 2])\n",
    "print(arr.shape)\n",
    "print(arr)"
   ]
  },
  {
   "cell_type": "code",
   "execution_count": 38,
   "metadata": {},
   "outputs": [
    {
     "name": "stdout",
     "output_type": "stream",
     "text": [
      "(32, 2, 1)\n",
      "(32, 2, 1)\n",
      "(8, 1, 4, 1, 2, 1, 1)\n"
     ]
    },
    {
     "data": {
      "text/plain": [
       "array([[[[[[[-1.31046958]],\n",
       "\n",
       "           [[-0.93253738]]]],\n",
       "\n",
       "\n",
       "\n",
       "         [[[[-2.13819828]],\n",
       "\n",
       "           [[ 1.79162807]]]],\n",
       "\n",
       "\n",
       "\n",
       "         [[[[-0.16228284]],\n",
       "\n",
       "           [[-1.70694717]]]],\n",
       "\n",
       "\n",
       "\n",
       "         [[[[-0.23222206]],\n",
       "\n",
       "           [[-0.73382067]]]]]],\n",
       "\n",
       "\n",
       "\n",
       "\n",
       "\n",
       "       [[[[[[-1.07183769]],\n",
       "\n",
       "           [[-0.83064369]]]],\n",
       "\n",
       "\n",
       "\n",
       "         [[[[-0.7473042 ]],\n",
       "\n",
       "           [[-0.2965974 ]]]],\n",
       "\n",
       "\n",
       "\n",
       "         [[[[ 0.65594838]],\n",
       "\n",
       "           [[ 0.17794284]]]],\n",
       "\n",
       "\n",
       "\n",
       "         [[[[-0.1542058 ]],\n",
       "\n",
       "           [[-0.05729906]]]]]],\n",
       "\n",
       "\n",
       "\n",
       "\n",
       "\n",
       "       [[[[[[-0.33206404]],\n",
       "\n",
       "           [[-1.02355202]]]],\n",
       "\n",
       "\n",
       "\n",
       "         [[[[ 0.60192929]],\n",
       "\n",
       "           [[ 0.07359752]]]],\n",
       "\n",
       "\n",
       "\n",
       "         [[[[-1.00384314]],\n",
       "\n",
       "           [[ 1.34217908]]]],\n",
       "\n",
       "\n",
       "\n",
       "         [[[[ 0.69170877]],\n",
       "\n",
       "           [[-0.67502613]]]]]],\n",
       "\n",
       "\n",
       "\n",
       "\n",
       "\n",
       "       [[[[[[-1.37150749]],\n",
       "\n",
       "           [[-0.02806462]]]],\n",
       "\n",
       "\n",
       "\n",
       "         [[[[ 0.91914374]],\n",
       "\n",
       "           [[-1.71732504]]]],\n",
       "\n",
       "\n",
       "\n",
       "         [[[[ 0.01925313]],\n",
       "\n",
       "           [[-0.95089916]]]],\n",
       "\n",
       "\n",
       "\n",
       "         [[[[ 1.39302547]],\n",
       "\n",
       "           [[-1.06284878]]]]]],\n",
       "\n",
       "\n",
       "\n",
       "\n",
       "\n",
       "       [[[[[[ 0.19263793]],\n",
       "\n",
       "           [[ 0.9511688 ]]]],\n",
       "\n",
       "\n",
       "\n",
       "         [[[[-1.35258785]],\n",
       "\n",
       "           [[ 0.04488959]]]],\n",
       "\n",
       "\n",
       "\n",
       "         [[[[ 0.47808845]],\n",
       "\n",
       "           [[-0.35219241]]]],\n",
       "\n",
       "\n",
       "\n",
       "         [[[[ 0.65993249]],\n",
       "\n",
       "           [[-0.25650158]]]]]],\n",
       "\n",
       "\n",
       "\n",
       "\n",
       "\n",
       "       [[[[[[-1.49616979]],\n",
       "\n",
       "           [[-0.88013121]]]],\n",
       "\n",
       "\n",
       "\n",
       "         [[[[ 0.20966962]],\n",
       "\n",
       "           [[-0.47516489]]]],\n",
       "\n",
       "\n",
       "\n",
       "         [[[[ 0.30906106]],\n",
       "\n",
       "           [[ 0.38845719]]]],\n",
       "\n",
       "\n",
       "\n",
       "         [[[[-1.6757788 ]],\n",
       "\n",
       "           [[ 1.33412496]]]]]],\n",
       "\n",
       "\n",
       "\n",
       "\n",
       "\n",
       "       [[[[[[-2.18297148]],\n",
       "\n",
       "           [[ 0.05834462]]]],\n",
       "\n",
       "\n",
       "\n",
       "         [[[[ 0.76907619]],\n",
       "\n",
       "           [[ 1.91390185]]]],\n",
       "\n",
       "\n",
       "\n",
       "         [[[[ 0.05506726]],\n",
       "\n",
       "           [[ 2.03486045]]]],\n",
       "\n",
       "\n",
       "\n",
       "         [[[[-0.37140426]],\n",
       "\n",
       "           [[ 0.5972738 ]]]]]],\n",
       "\n",
       "\n",
       "\n",
       "\n",
       "\n",
       "       [[[[[[-0.05129632]],\n",
       "\n",
       "           [[-0.81239152]]]],\n",
       "\n",
       "\n",
       "\n",
       "         [[[[-1.04038791]],\n",
       "\n",
       "           [[ 1.54781763]]]],\n",
       "\n",
       "\n",
       "\n",
       "         [[[[-1.55012918]],\n",
       "\n",
       "           [[-0.24270387]]]],\n",
       "\n",
       "\n",
       "\n",
       "         [[[[ 0.45244546]],\n",
       "\n",
       "           [[ 0.51919239]]]]]]])"
      ]
     },
     "execution_count": 38,
     "metadata": {},
     "output_type": "execute_result"
    }
   ],
   "source": [
    "# 차원을 늘릴 수 있다\n",
    "arr = arr.reshape([-1, 2, 1])\n",
    "print(arr.shape)\n",
    "\n",
    "arr = arr.reshape(-1, 2, 1)\n",
    "print(arr.shape)\n",
    "\n",
    "arr = arr.reshape(-1, 1, 4, 1, 2, 1, 1)\n",
    "print(arr.shape)\n",
    "arr"
   ]
  },
  {
   "cell_type": "markdown",
   "metadata": {},
   "source": [
    "## 1차원으로 펼쳐주기\n",
    "- arr.ravel()"
   ]
  },
  {
   "cell_type": "code",
   "execution_count": 40,
   "metadata": {},
   "outputs": [
    {
     "data": {
      "text/plain": [
       "(64,)"
      ]
     },
     "execution_count": 40,
     "metadata": {},
     "output_type": "execute_result"
    }
   ],
   "source": [
    "arr = arr.ravel()\n",
    "arr.shape"
   ]
  },
  {
   "cell_type": "code",
   "execution_count": 41,
   "metadata": {},
   "outputs": [
    {
     "data": {
      "text/plain": [
       "1"
      ]
     },
     "execution_count": 41,
     "metadata": {},
     "output_type": "execute_result"
    }
   ],
   "source": [
    "arr.ndim "
   ]
  },
  {
   "cell_type": "code",
   "execution_count": 42,
   "metadata": {},
   "outputs": [
    {
     "data": {
      "text/plain": [
       "array([ True,  True,  True,  True,  True,  True,  True,  True,  True,\n",
       "        True,  True,  True,  True,  True,  True,  True,  True,  True,\n",
       "        True,  True,  True,  True,  True,  True,  True,  True,  True,\n",
       "        True,  True,  True,  True,  True,  True,  True,  True,  True,\n",
       "        True,  True,  True,  True,  True,  True,  True,  True,  True,\n",
       "        True,  True,  True,  True,  True,  True,  True,  True,  True,\n",
       "        True,  True,  True,  True,  True,  True,  True,  True,  True,\n",
       "        True])"
      ]
     },
     "execution_count": 42,
     "metadata": {},
     "output_type": "execute_result"
    }
   ],
   "source": [
    "arr == arr.reshape(-1)"
   ]
  },
  {
   "cell_type": "markdown",
   "metadata": {},
   "source": [
    "# 차원을 늘리기\n",
    "- np.expand_dims()"
   ]
  },
  {
   "cell_type": "code",
   "execution_count": 43,
   "metadata": {},
   "outputs": [
    {
     "data": {
      "text/plain": [
       "(64,)"
      ]
     },
     "execution_count": 43,
     "metadata": {},
     "output_type": "execute_result"
    }
   ],
   "source": [
    "arr.shape"
   ]
  },
  {
   "cell_type": "code",
   "execution_count": 44,
   "metadata": {},
   "outputs": [
    {
     "name": "stdout",
     "output_type": "stream",
     "text": [
      "(1, 64)\n"
     ]
    }
   ],
   "source": [
    "arr = np.expand_dims(arr, 0) # 앞에다가 한 차원을 추가\n",
    "print(arr.shape)"
   ]
  },
  {
   "cell_type": "code",
   "execution_count": 45,
   "metadata": {},
   "outputs": [
    {
     "name": "stdout",
     "output_type": "stream",
     "text": [
      "(64, 1)\n"
     ]
    }
   ],
   "source": [
    "arr = arr.ravel()\n",
    "arr = np.expand_dims(arr, -1) # 뒤에다가 한 차원을 추가\n",
    "print(arr.shape)"
   ]
  },
  {
   "cell_type": "code",
   "execution_count": 46,
   "metadata": {},
   "outputs": [
    {
     "data": {
      "text/plain": [
       "(1, 64, 1)"
      ]
     },
     "execution_count": 46,
     "metadata": {},
     "output_type": "execute_result"
    }
   ],
   "source": [
    "arr = arr.ravel()\n",
    "arr = np.expand_dims(np.expand_dims(arr,-1), 0)\n",
    "arr.shape"
   ]
  },
  {
   "cell_type": "markdown",
   "metadata": {},
   "source": [
    "# array 생성하기"
   ]
  },
  {
   "cell_type": "code",
   "execution_count": 47,
   "metadata": {},
   "outputs": [
    {
     "data": {
      "text/plain": [
       "array([[0., 0., 0.],\n",
       "       [0., 0., 0.],\n",
       "       [0., 0., 0.]])"
      ]
     },
     "execution_count": 47,
     "metadata": {},
     "output_type": "execute_result"
    }
   ],
   "source": [
    "zeros = np.zeros([3, 3])\n",
    "zeros"
   ]
  },
  {
   "cell_type": "code",
   "execution_count": 48,
   "metadata": {},
   "outputs": [
    {
     "name": "stdout",
     "output_type": "stream",
     "text": [
      "[0.]\n",
      "1\n",
      "[0.]\n",
      "1\n"
     ]
    }
   ],
   "source": [
    "zeros = np.zeros(1)\n",
    "print(zeros)\n",
    "print(zeros.ndim)\n",
    "\n",
    "zeros = np.zeros([1])\n",
    "print(zeros)\n",
    "print(zeros.ndim)"
   ]
  },
  {
   "cell_type": "code",
   "execution_count": 49,
   "metadata": {},
   "outputs": [
    {
     "name": "stdout",
     "output_type": "stream",
     "text": [
      "[[1. 1. 1. 1. 1.]\n",
      " [1. 1. 1. 1. 1.]\n",
      " [1. 1. 1. 1. 1.]\n",
      " [1. 1. 1. 1. 1.]\n",
      " [1. 1. 1. 1. 1.]\n",
      " [1. 1. 1. 1. 1.]\n",
      " [1. 1. 1. 1. 1.]\n",
      " [1. 1. 1. 1. 1.]\n",
      " [1. 1. 1. 1. 1.]\n",
      " [1. 1. 1. 1. 1.]]\n",
      "2\n"
     ]
    }
   ],
   "source": [
    "ones = np.ones([10, 5])\n",
    "print(ones)\n",
    "print(ones.ndim)"
   ]
  },
  {
   "cell_type": "code",
   "execution_count": 50,
   "metadata": {},
   "outputs": [
    {
     "data": {
      "text/plain": [
       "array([[127., 127., 127., 127., 127.],\n",
       "       [127., 127., 127., 127., 127.],\n",
       "       [127., 127., 127., 127., 127.],\n",
       "       [127., 127., 127., 127., 127.],\n",
       "       [127., 127., 127., 127., 127.],\n",
       "       [127., 127., 127., 127., 127.],\n",
       "       [127., 127., 127., 127., 127.],\n",
       "       [127., 127., 127., 127., 127.],\n",
       "       [127., 127., 127., 127., 127.],\n",
       "       [127., 127., 127., 127., 127.]])"
      ]
     },
     "execution_count": 50,
     "metadata": {},
     "output_type": "execute_result"
    }
   ],
   "source": [
    "ones * 127"
   ]
  },
  {
   "cell_type": "code",
   "execution_count": 52,
   "metadata": {},
   "outputs": [
    {
     "name": "stdout",
     "output_type": "stream",
     "text": [
      "[0 1 2 3 4]\n",
      "[10 11 12 13 14 15 16 17]\n",
      "[10 12 14 16 18]\n"
     ]
    }
   ],
   "source": [
    "arr = np.arange(5)\n",
    "print(arr)\n",
    "\n",
    "arr = np.arange(10, 18)\n",
    "print(arr)\n",
    "\n",
    "arr = np.arange(10, 20, 2)\n",
    "print(arr)"
   ]
  },
  {
   "cell_type": "code",
   "execution_count": 53,
   "metadata": {},
   "outputs": [
    {
     "name": "stdout",
     "output_type": "stream",
     "text": [
      "[[ 0  1  2  3  4  5  6  7  8  9 10 11]\n",
      " [12 13 14 15 16 17 18 19 20 21 22 23]\n",
      " [24 25 26 27 28 29 30 31 32 33 34 35]] (3, 12)\n"
     ]
    }
   ],
   "source": [
    "# arange는 무조건 1차원으로 만들어줌\n",
    "arr = np.arange(36).reshape(3, 12)\n",
    "print(arr, arr.shape)"
   ]
  },
  {
   "cell_type": "markdown",
   "metadata": {},
   "source": [
    "# Indexing & Slicing"
   ]
  },
  {
   "cell_type": "code",
   "execution_count": 55,
   "metadata": {},
   "outputs": [
    {
     "name": "stdout",
     "output_type": "stream",
     "text": [
      "3 [2, 3, 4, 5]\n",
      "[1, 2, 3]\n",
      "2\n"
     ]
    }
   ],
   "source": [
    "# list\n",
    "nums = [1, 2, 3, 4, 5]\n",
    "print(nums[2], nums[1:])\n",
    "nums = [1, 2, 3, 4, [1, 2, 3]]\n",
    "print(nums[4])\n",
    "print(nums[4][1])"
   ]
  },
  {
   "cell_type": "code",
   "execution_count": 56,
   "metadata": {},
   "outputs": [
    {
     "name": "stdout",
     "output_type": "stream",
     "text": [
      "[[ 0  1  2  3  4  5  6  7  8  9 10 11]\n",
      " [12 13 14 15 16 17 18 19 20 21 22 23]\n",
      " [24 25 26 27 28 29 30 31 32 33 34 35]]\n",
      "[24 25 26 27 28 29 30 31 32 33 34 35]\n",
      "29\n",
      "35\n",
      "35\n",
      "[[12 13 14 15 16 17 18 19 20 21 22 23]\n",
      " [24 25 26 27 28 29 30 31 32 33 34 35]]\n",
      "[[17 18 19 20 21 22 23]\n",
      " [29 30 31 32 33 34 35]]\n"
     ]
    }
   ],
   "source": [
    "# array\n",
    "print(arr)\n",
    "print(arr[2])\n",
    "print(arr[2][5])\n",
    "print(arr[2][-1])\n",
    "print(arr[2, -1])\n",
    "print(arr[1:])\n",
    "print(arr[1:, 5:])"
   ]
  },
  {
   "cell_type": "markdown",
   "metadata": {},
   "source": [
    "## Boolean Indexing"
   ]
  },
  {
   "cell_type": "code",
   "execution_count": null,
   "metadata": {},
   "outputs": [],
   "source": [
    "data = np.random.randn(3, 5)\n",
    "data"
   ]
  },
  {
   "cell_type": "code",
   "execution_count": null,
   "metadata": {},
   "outputs": [],
   "source": [
    "# array의 data마다 boolean을 반환\n",
    "data <= 0"
   ]
  },
  {
   "cell_type": "code",
   "execution_count": null,
   "metadata": {},
   "outputs": [],
   "source": [
    "print(data[data<=0])\n",
    "data[data<=0] = 1\n",
    "data"
   ]
  },
  {
   "cell_type": "markdown",
   "metadata": {},
   "source": [
    "# Broadcast\n",
    "- 연산하려는 서로 다른 두 개의 행렬의 shape가 같지 않지만 한쪽의 차원이라도 같거나 값의 개수가 한 개일때 이를 여러 복사를 하여 연산을 함"
   ]
  },
  {
   "cell_type": "code",
   "execution_count": null,
   "metadata": {},
   "outputs": [],
   "source": [
    "arr = np.arange(9).reshape(3, 3)\n",
    "arr"
   ]
  },
  {
   "cell_type": "code",
   "execution_count": null,
   "metadata": {},
   "outputs": [],
   "source": [
    "arr + 3"
   ]
  },
  {
   "cell_type": "code",
   "execution_count": null,
   "metadata": {},
   "outputs": [],
   "source": [
    "arr * 3"
   ]
  },
  {
   "cell_type": "code",
   "execution_count": null,
   "metadata": {},
   "outputs": [],
   "source": [
    "arr + np.array([1, 1, 2])"
   ]
  },
  {
   "cell_type": "markdown",
   "metadata": {},
   "source": [
    "# Math Function"
   ]
  },
  {
   "cell_type": "code",
   "execution_count": null,
   "metadata": {},
   "outputs": [],
   "source": [
    "arr + arr"
   ]
  },
  {
   "cell_type": "code",
   "execution_count": null,
   "metadata": {},
   "outputs": [],
   "source": [
    "np.add(arr, 2)"
   ]
  },
  {
   "cell_type": "code",
   "execution_count": null,
   "metadata": {},
   "outputs": [],
   "source": [
    "np.multiply(arr, 5)"
   ]
  },
  {
   "cell_type": "code",
   "execution_count": null,
   "metadata": {},
   "outputs": [],
   "source": [
    "arr = np.random.randint(7, size=27).reshape(3, 3, 3) # 0~6까지 랜덤한 정수 샘플링\n",
    "arr_2 = np.random.randint(3, size=9).reshape(3, 3)\n",
    "print(arr, '\\n','\\n',  arr.shape, '\\n', '\\n', arr_2, '\\n', '\\n', arr_2.shape)"
   ]
  },
  {
   "cell_type": "code",
   "execution_count": null,
   "metadata": {},
   "outputs": [],
   "source": [
    "arr + arr_2"
   ]
  },
  {
   "cell_type": "code",
   "execution_count": null,
   "metadata": {},
   "outputs": [],
   "source": [
    "np.sum(arr)"
   ]
  },
  {
   "cell_type": "code",
   "execution_count": null,
   "metadata": {},
   "outputs": [],
   "source": [
    "np.sum(arr+arr_2)"
   ]
  },
  {
   "cell_type": "code",
   "execution_count": null,
   "metadata": {},
   "outputs": [],
   "source": [
    "np.max(arr)"
   ]
  },
  {
   "cell_type": "code",
   "execution_count": null,
   "metadata": {},
   "outputs": [],
   "source": [
    "np.max(arr+arr_2)"
   ]
  },
  {
   "cell_type": "code",
   "execution_count": null,
   "metadata": {},
   "outputs": [],
   "source": [
    "np.min(arr+arr_2)"
   ]
  },
  {
   "cell_type": "markdown",
   "metadata": {},
   "source": [
    "## axis"
   ]
  },
  {
   "cell_type": "code",
   "execution_count": null,
   "metadata": {
    "scrolled": true
   },
   "outputs": [],
   "source": [
    "print(arr+arr_2, '\\n')\n",
    "print((arr+arr_2).shape, '\\n')\n",
    "# 바깥에서부터 구분하는 차원을 없애고 각각 거기에 대해서 비교\n",
    "print(np.max(arr+arr_2, axis=0))\n",
    "print(np.max(arr+arr_2, axis=1))\n",
    "print(np.max(arr+arr_2, axis=2))\n",
    "print(np.max(arr+arr_2, axis=-1))"
   ]
  },
  {
   "cell_type": "code",
   "execution_count": null,
   "metadata": {
    "scrolled": true
   },
   "outputs": [],
   "source": [
    "# 기준 차원 빼고 나머지 좌표가 같은 것끼리 더한다고 생각해도 됨\n",
    "# (결과의 shape도 그 axis만큼 줄어듬)\n",
    "print(arr+arr_2, '\\n')\n",
    "print(np.sum(arr+arr_2, axis=0))\n",
    "print(np.sum(arr+arr_2, axis=1))\n",
    "print(np.sum(arr+arr_2, axis=2))"
   ]
  },
  {
   "cell_type": "code",
   "execution_count": null,
   "metadata": {},
   "outputs": [],
   "source": [
    "arr = np.arange(4*2*4).reshape([4, 2, 4])\n",
    "print(arr)\n",
    "print(arr.sum(axis=0))\n",
    "print(arr.sum(axis=0).shape)\n",
    "print(arr.sum(axis=1))\n",
    "print(arr.sum(axis=1).shape)\n",
    "print(arr.sum(axis=-1))\n",
    "print(arr.sum(axis=-1).shape)"
   ]
  },
  {
   "cell_type": "code",
   "execution_count": null,
   "metadata": {},
   "outputs": [],
   "source": [
    "np.mean(arr)"
   ]
  },
  {
   "cell_type": "code",
   "execution_count": null,
   "metadata": {},
   "outputs": [],
   "source": [
    "arr = np.array([1, 6, 7, 15, 2, -9])\n",
    "np.argmax(arr)"
   ]
  },
  {
   "cell_type": "code",
   "execution_count": null,
   "metadata": {},
   "outputs": [],
   "source": [
    "np.argmin(arr)"
   ]
  },
  {
   "cell_type": "code",
   "execution_count": null,
   "metadata": {},
   "outputs": [],
   "source": [
    "arr = np.array([[[15, 5, 9], [2, 7, 6]],\n",
    "                [[5, 9, 10], [1, 98, 2]]])\n",
    "print(arr.shape)\n",
    "print(arr.argmax(axis=0))\n",
    "print(arr.argmax(axis=1))\n",
    "print(arr.argmax(axis=-1))"
   ]
  },
  {
   "cell_type": "markdown",
   "metadata": {},
   "source": [
    "# unique"
   ]
  },
  {
   "cell_type": "code",
   "execution_count": null,
   "metadata": {},
   "outputs": [],
   "source": [
    "arr = np.array([3, 5, 6, 6, 1, 2, 3, 4, 5, 6, 8, 8, 10, 11, 2])\n",
    "np.unique(arr)"
   ]
  }
 ],
 "metadata": {
  "kernelspec": {
   "display_name": "Python 3",
   "language": "python",
   "name": "python3"
  },
  "language_info": {
   "codemirror_mode": {
    "name": "ipython",
    "version": 3
   },
   "file_extension": ".py",
   "mimetype": "text/x-python",
   "name": "python",
   "nbconvert_exporter": "python",
   "pygments_lexer": "ipython3",
   "version": "3.8.5"
  }
 },
 "nbformat": 4,
 "nbformat_minor": 4
}
